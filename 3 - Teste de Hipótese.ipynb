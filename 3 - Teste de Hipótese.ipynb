{
 "cells": [
  {
   "cell_type": "code",
   "execution_count": 13,
   "metadata": {},
   "outputs": [],
   "source": [
    "from scipy.stats import norm\n",
    "import numpy as np"
   ]
  },
  {
   "cell_type": "markdown",
   "metadata": {},
   "source": [
    "# Teste Z"
   ]
  },
  {
   "cell_type": "markdown",
   "metadata": {},
   "source": [
    "\n",
    "\n",
    "Um fabricante de farinha afirma que a quantidade média de farinha nas embalagens de seu principal produto é de 500 g. Um teste de pesagem em 30 embalagens amostradas ao acaso mostrou um peso médio igual à 485 g. Estudos anteriores afirmam que a distribuição dos pesos segue uma normal e que o desvio padrão populacional é igual a 20 g. Considerando um nível de significância igual a 5%, responda as seguintes questões:\n",
    "\n",
    "1) Qual a hipótese nula a ser testada?\n",
    "\n",
    "2) Qual o valor da estatística de teste?\n",
    "\n",
    "3) Qual a conclusão do teste?"
   ]
  },
  {
   "cell_type": "code",
   "execution_count": 14,
   "metadata": {},
   "outputs": [
    {
     "name": "stdout",
     "output_type": "stream",
     "text": [
      "1- \tA hipótese nula é que a média pode ser considerada 500g!\n",
      "2- \tA estátistica de teste é:  -4.107919181288746\n",
      "3- \tComo a estátistica é menor que 1.959963984540054, é a hipótese alternativa é escolhida\n"
     ]
    }
   ],
   "source": [
    "media = 500\n",
    "n = 30\n",
    "media_amostral = 485\n",
    "desvio_amostral = 20\n",
    "significancia = 0.05\n",
    "confianca = 1 - significancia\n",
    "z_alpha_2 = norm.ppf(0.5+(confianca/2))\n",
    "\n",
    "print(\"1- \\tA hipótese nula é que a média pode ser considerada 500g!\")\n",
    "\n",
    "z_test = (media_amostral - media)/(desvio_amostral/(np.sqrt(n)))\n",
    "\n",
    "print(\"2- \\tA estátistica de teste é: \",z_test)\n",
    "\n",
    "print(f\"3- \\tComo a estátistica é menor que {z_alpha_2}, é a hipótese alternativa é escolhida\")\n"
   ]
  },
  {
   "cell_type": "markdown",
   "metadata": {},
   "source": [
    "Considere novamente os dados do exercício anterior. Um fabricante de farinha afirma que a quantidade média de farinha nas embalagens de seu principal produto é de 500 g. Um teste de pesagem em 30 embalagens amostradas ao acaso mostrou um peso médio igual à 485 g. Estudos anteriores afirmam que a distribuição dos pesos segue uma normal e que o desvio padrão populacional é igual a 20 g. Com um nível de significância igual a 5%, teste a hipótese nula de que a média do processo é igual a 500 g e marque a alternativa que indica o p-valor do teste aplicado (considere somente 5 casas decimais)."
   ]
  },
  {
   "cell_type": "code",
   "execution_count": 26,
   "metadata": {},
   "outputs": [
    {
     "data": {
      "text/plain": [
       "1.996364485294793e-05"
      ]
     },
     "execution_count": 26,
     "metadata": {},
     "output_type": "execute_result"
    }
   ],
   "source": [
    "p_valor = 2 * (1 - norm.cdf(abs(z_test)))\n",
    "p_valor = norm.sf(abs(-4.1079))\n",
    "p_valor"
   ]
  },
  {
   "cell_type": "code",
   "execution_count": 17,
   "metadata": {},
   "outputs": [
    {
     "name": "stdout",
     "output_type": "stream",
     "text": [
      "Collecting statsmodels\n",
      "  Downloading statsmodels-0.11.1-cp38-none-win_amd64.whl (8.3 MB)\n",
      "Requirement already satisfied: pandas>=0.21 in c:\\users\\aluga.com\\appdata\\local\\programs\\python\\python38\\lib\\site-packages (from statsmodels) (1.0.4)\n",
      "Requirement already satisfied: scipy>=1.0 in c:\\users\\aluga.com\\appdata\\local\\programs\\python\\python38\\lib\\site-packages (from statsmodels) (1.4.1)\n",
      "Collecting patsy>=0.5\n",
      "  Downloading patsy-0.5.1-py2.py3-none-any.whl (231 kB)\n",
      "Requirement already satisfied: numpy>=1.14 in c:\\users\\aluga.com\\appdata\\local\\programs\\python\\python38\\lib\\site-packages (from statsmodels) (1.18.5)\n",
      "Requirement already satisfied: pytz>=2017.2 in c:\\users\\aluga.com\\appdata\\local\\programs\\python\\python38\\lib\\site-packages (from pandas>=0.21->statsmodels) (2020.1)\n",
      "Requirement already satisfied: python-dateutil>=2.6.1 in c:\\users\\aluga.com\\appdata\\local\\programs\\python\\python38\\lib\\site-packages (from pandas>=0.21->statsmodels) (2.8.1)\n",
      "Requirement already satisfied: six in c:\\users\\aluga.com\\appdata\\local\\programs\\python\\python38\\lib\\site-packages (from patsy>=0.5->statsmodels) (1.15.0)\n",
      "Installing collected packages: patsy, statsmodels\n",
      "Successfully installed patsy-0.5.1 statsmodels-0.11.1\n"
     ]
    },
    {
     "name": "stderr",
     "output_type": "stream",
     "text": [
      "WARNING: You are using pip version 20.1.1; however, version 20.2.2 is available.\n",
      "You should consider upgrading via the 'c:\\users\\aluga.com\\appdata\\local\\programs\\python\\python38\\python.exe -m pip install --upgrade pip' command.\n"
     ]
    }
   ],
   "source": [
    "#from statsmodels.stats.weightstats import ztest\n",
    "# ferramentas do python para fazer o cálculo só com a amostra e a média que quer comparar\n",
    "#ztest(x1=amostra, media=media)\n"
   ]
  },
  {
   "cell_type": "markdown",
   "metadata": {},
   "source": [
    "# Teste T"
   ]
  },
  {
   "cell_type": "markdown",
   "metadata": {
    "heading_collapsed": true
   },
   "source": [
    "## __Exercício__\n",
    "A empresa Limpa Esgoto garante ser capaz de realizar o tratamento de esgoto e obter, no máximo, 150 g de impurezas para cada mil litros de esgoto tratado. Vinte amostras de mil litros de esgoto apresentaram, em média, 230 g de impurezas e desvio padrão amostral igual a 90 g.\n",
    "\n",
    "Assumindo alfa igual a 5% e população normalmente distribuída, seria possível discordar da empresa Limpa Esgoto? Assinale a alternativa que apresenta a estatística de teste e a decisão correta do teste."
   ]
  },
  {
   "cell_type": "code",
   "execution_count": 7,
   "metadata": {
    "hidden": true
   },
   "outputs": [
    {
     "name": "stdout",
     "output_type": "stream",
     "text": [
      "a estatística de teste é : 3.9752319599996264\n",
      " o t é suficiente para passar o nível de confiança : True\n",
      "Portanto rejeitamos a hipótese nula e aceitamos a alternativa dele está acima!\n",
      "só para praticar o p-value\n",
      "p-valor é :0.0004053956380615249\n",
      "portanto < 0.05 podemos rejeitar!\n"
     ]
    }
   ],
   "source": [
    "from scipy.stats import t as t_studart\n",
    "import numpy as np\n",
    "# <= 150g\n",
    "n = 20\n",
    "grau_liberdade = n - 1\n",
    "significancia = 0.05\n",
    "confianca = 1 - significancia\n",
    "media_amostral = 230\n",
    "media = 150\n",
    "desvio_padrao_amostra = 90\n",
    "\n",
    "\n",
    "t_limit = t_studart.ppf(confianca, grau_liberdade)\n",
    "t_test = (media_amostral - media)/(desvio_padrao_amostra/(np.sqrt(n)))\n",
    "\n",
    "print(f\"a estatística de teste é : {t_test}\")\n",
    "print(f\" o t é suficiente para passar o nível de confiança : {t_test >= t_limit}\")\n",
    "print('Portanto rejeitamos a hipótese nula e aceitamos a alternativa dele está acima!')\n",
    "\n",
    "print('só para praticar o p-value')\n",
    "\n",
    "print(f'p-valor é :{t_studart.sf(t_test,grau_liberdade)}')\n",
    "print('portanto < 0.05 podemos rejeitar!')\n"
   ]
  },
  {
   "cell_type": "markdown",
   "metadata": {
    "heading_collapsed": true
   },
   "source": [
    "## Exercício 2\n",
    "---\n",
    "\n",
    "A pizzaria Muito Queijo alega que a quantidade de queijo em suas pizzas tamanho família é de, no mínimo, 350 g. Uma amostra de 35 pizzas tamanho família revelou uma média de 330 g de queijo por pizza. O desvio padrão amostral foi de 80 g.\n",
    "\n",
    "Assumindo alfa igual a 5% e população normalmente distribuída, seria possível discordar da alegação da pizzaria? Assinale a alternativa que apresenta a estatística de teste e a decisão correta do teste."
   ]
  },
  {
   "cell_type": "code",
   "execution_count": 12,
   "metadata": {
    "hidden": true
   },
   "outputs": [
    {
     "name": "stdout",
     "output_type": "stream",
     "text": [
      "Afirmando que é uma distribuição normal, e temos mais de 30 amostras realizemos um maldito teste z:\n",
      "p-value : 0.06956749203409206\n",
      "Estatística de teste: -1.479019945774904\n",
      "portanto não rejeitamos a hipótese nula!\n"
     ]
    }
   ],
   "source": [
    "from scipy.stats import norm\n",
    "\n",
    "# >= 350g\n",
    "\n",
    "media_amostral = 330\n",
    "media = 350\n",
    "desvio_padrao_amostra = 80\n",
    "n = 35\n",
    "grau_liberdade = n - 1\n",
    "significancia = 0.05\n",
    "confianca = 1 - significancia\n",
    "\n",
    "print(\"Afirmando que é uma distribuição normal, e temos mais de 30 amostras realizemos um maldito teste z:\")\n",
    "z = (media_amostral - media)/(desvio_padrao_amostra/(np.sqrt(n)))\n",
    "print(f\"p-value : {norm.cdf(z)}\")\n",
    "print(f\"Estatística de teste: {z}\")\n",
    "print('portanto não rejeitamos a hipótese nula!')"
   ]
  },
  {
   "cell_type": "markdown",
   "metadata": {},
   "source": [
    "# 2 Amostras"
   ]
  },
  {
   "cell_type": "markdown",
   "metadata": {},
   "source": [
    "## Exercício\n",
    "---\n",
    "Um fabricante de cosméticos afirma que a adição de um novo composto químico em sua linha de shampoos consegue promover em mais de 2 centímetros o crescimento dos fios de cabelo em um período de 60 dias. Duas amostras de pessoas foram selecionadas e testadas, uma utilizando o shampoo novo (com o composto) e a outra com o shampoo antigo (sem o composto).\n",
    "\n",
    "Os resultados (crescimento dos fios de cabelo em centímetros) podem ser verificados na tabela abaixo:\n",
    "\n",
    "novo = pd.Series([3.4, 4.9, 2.8, 5.5, 3.7, 2.5, 4.3, 4.6, 3.7, 3.4])\n",
    "antigo = pd.Series([0.3, 1.2, 1.2, 1.7, 1.1, 0.6, 1.2, 1.5, 0.5, 0.7])\n",
    "    "
   ]
  },
  {
   "cell_type": "code",
   "execution_count": 29,
   "metadata": {},
   "outputs": [
    {
     "name": "stdout",
     "output_type": "stream",
     "text": [
      "T limit para essa brincadeira é:  1.7340636066175354\n",
      "p-value :  0.007896331117193027\n"
     ]
    }
   ],
   "source": [
    "import numpy as np\n",
    "novo = pd.Series([3.4, 4.9, 2.8, 5.5, 3.7, 2.5, 4.3, 4.6, 3.7, 3.4])\n",
    "antigo = pd.Series([0.3, 1.2, 1.2, 1.7, 1.1, 0.6, 1.2, 1.5, 0.5, 0.7])\n",
    "# como se somarmos ambos continua < 30, usaremos o teste T\n",
    "media_novo = novo.mean()\n",
    "media_antigo = antigo.mean()\n",
    "std_novo = novo.std()\n",
    "std_antigo = antigo.std()\n",
    "d_0 = 2\n",
    "grau_liberdade = len(novo) + len(antigo) - 2\n",
    "# H_0 \\mu_novo - \\mu_antigo <= 2\n",
    "# H_1 \\mu_novo - \\mu_antigo > 2\n",
    "# portanto vamos testar se novo - antigo > 2 o resto é hipótese nula\n",
    "\n",
    "from scipy.stats import t as t_student\n",
    "significancia = 0.05\n",
    "confianca = 1 - significancia\n",
    "t_limit = t_student.ppf(confianca, grau_liberdade)\n",
    "print('T limit para essa brincadeira é: ', t_limit)\n",
    "numerador = (media_novo - media_antigo - d_0)\n",
    "denominador = np.sqrt( ((std_novo**2)/len(novo)) + ((std_antigo**2)/len(antigo))  )\n",
    "t = numerador/denominador\n",
    "print('p-value : ',t_student.sf(t,grau_liberdade))"
   ]
  },
  {
   "cell_type": "markdown",
   "metadata": {},
   "source": [
    "# qui Quadrado"
   ]
  },
  {
   "cell_type": "markdown",
   "metadata": {},
   "source": [
    "A realização de um teste não paramétrico Qui-quadrado, com apenas 5 graus de liberdade, obteve-se a estatística de teste no valor de 7,45.\n",
    "\n",
    "Qual seria o p-valor para este teste?"
   ]
  },
  {
   "cell_type": "code",
   "execution_count": 4,
   "metadata": {},
   "outputs": [
    {
     "data": {
      "text/plain": [
       "0.18926579121171605"
      ]
     },
     "execution_count": 4,
     "metadata": {},
     "output_type": "execute_result"
    }
   ],
   "source": [
    "from scipy.stats import chi\n",
    "import numpy as np\n",
    "chi.sf(np.sqrt(7.45),df=5)"
   ]
  },
  {
   "cell_type": "markdown",
   "metadata": {},
   "source": [
    "# Teste de Wilcoxon e Mann-Whitney"
   ]
  },
  {
   "cell_type": "markdown",
   "metadata": {},
   "source": [
    "Desconfiado da eficiência dos cursos e materiais de estudo online da Alura, um professor resolveu realizar um teste com um grupo de 14 alunos de sua classe. Para isto, ele submeteu estes alunos a duas etapas distintas e logo depois de cada etapa, aplicou uma avaliação. Na etapa inicial, foram oferecidas aulas normais, sem a utilização do material de apoio da Alura. Na segunda etapa, foram também oferecidas aulas normais, mas com a utilização do material de apoio da Alura. As notas obtidas pelos alunos estão na tabela abaixo:"
   ]
  },
  {
   "cell_type": "markdown",
   "metadata": {},
   "source": [
    "Assinale a alternativa que apresenta o resultado do teste, não paramétrico de Wilcoxon, aplicado pelo professor (estatística de teste T e decisão do teste). Considere um nível de significância de 10%.\n"
   ]
  },
  {
   "cell_type": "code",
   "execution_count": 2,
   "metadata": {},
   "outputs": [
    {
     "data": {
      "text/plain": [
       "WilcoxonResult(statistic=14.0, pvalue=0.01405249884356315)"
      ]
     },
     "execution_count": 2,
     "metadata": {},
     "output_type": "execute_result"
    }
   ],
   "source": [
    "from scipy.stats import wilcoxon\n",
    "import pandas as pd\n",
    "sem_Alura = pd.Series([ 7,  8, 6, 6, 10, 4, 2, 5,  9, 2, 4, 9, 1, 10])\n",
    "com_Alura = pd.Series([10, 10, 9, 9,  9, 7, 5, 8, 10, 6, 3, 7, 4,  8])\n",
    "\n",
    "wilcoxon(sem_Alura,com_Alura)\n",
    "# p-value deu 1% então podemos rejeitar H_0"
   ]
  },
  {
   "cell_type": "markdown",
   "metadata": {},
   "source": [
    "Um professor acredita que alunos que praticam exercícios físicos têm uma performance média escolar superior àquela obtida por alunos que não praticam. Para provar sua teoria, selecionou duas amostras aleatórias, uma com 9 alunos que não praticam exercícios físicos e outra com 10 alunos que cultivam o hábito de se exercitar. A tabela abaixo mostra as notas dos alunos no último ano:"
   ]
  },
  {
   "cell_type": "markdown",
   "metadata": {},
   "source": [
    "Teste a hipótese da média das notas dos alunos que praticam exercícios ser maior que a média das notas dos alunos que não praticam. Assinale a alternativa que apresenta o resultado do teste (estatística de teste u e decisão do teste). Considere um nível de significância de 10%."
   ]
  },
  {
   "cell_type": "code",
   "execution_count": 8,
   "metadata": {},
   "outputs": [
    {
     "data": {
      "text/plain": [
       "MannwhitneyuResult(statistic=40.0, pvalue=0.35118642828565927)"
      ]
     },
     "execution_count": 8,
     "metadata": {},
     "output_type": "execute_result"
    }
   ],
   "source": [
    "from scipy.stats import mannwhitneyu\n",
    "\n",
    "sem_Exercicios = pd.Series([7, 6, 7, 8, 6, 8, 6, 9, 5])\n",
    "com_Exercicios = pd.Series([8, 7, 6, 6, 8, 6, 10, 6, 7, 8])\n",
    "# H_0 : sem => com\n",
    "# h_1 : sem < com\n",
    "mannwhitneyu(sem_Exercicios,com_Exercicios,alternative='less')\n"
   ]
  }
 ],
 "metadata": {
  "kernelspec": {
   "display_name": "Python 3",
   "language": "python",
   "name": "python3"
  },
  "language_info": {
   "codemirror_mode": {
    "name": "ipython",
    "version": 3
   },
   "file_extension": ".py",
   "mimetype": "text/x-python",
   "name": "python",
   "nbconvert_exporter": "python",
   "pygments_lexer": "ipython3",
   "version": "3.7.4"
  },
  "toc": {
   "base_numbering": 1,
   "nav_menu": {},
   "number_sections": true,
   "sideBar": true,
   "skip_h1_title": false,
   "title_cell": "Table of Contents",
   "title_sidebar": "Contents",
   "toc_cell": false,
   "toc_position": {},
   "toc_section_display": true,
   "toc_window_display": false
  }
 },
 "nbformat": 4,
 "nbformat_minor": 4
}
